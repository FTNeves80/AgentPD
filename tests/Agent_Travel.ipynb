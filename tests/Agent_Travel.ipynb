{
 "cells": [
  {
   "cell_type": "code",
   "execution_count": null,
   "id": "4a5e16c7",
   "metadata": {},
   "outputs": [],
   "source": [
    "from langchain_openai import ChatOpenAI\n",
    "from langchain.prompts import (\n",
    "    ChatPromptTemplate,\n",
    "    SystemMessagePromptTemplate,\n",
    "    HumanMessagePromptTemplate\n",
    ")\n",
    "from langchain.chains import LLMChain\n",
    "import logging\n",
    "\n",
    "from langchain.chains import SequentialChain\n",
    "\n",
    "# Classe com o template do agente de viagens\n",
    "class TravelTemplate:\n",
    "    def __init__(self):\n",
    "        self.system_template = \"\"\"\n",
    "        You are a Brazilian travel agent that gives nice and cheerful advice\n",
    "        to your customers about travels around the world. Your main goal is\n",
    "        to plan in little details every step of your customer trip.\n",
    "\n",
    "        The customer request will be denoted by four hashtags.\n",
    "\n",
    "        Give your answer as a list of places that they should visit. Initially,\n",
    "        your customer will ask for information in Portuguese about a place to\n",
    "        go and you will answer with a list.\n",
    "\n",
    "        For example:\n",
    "        ++++\n",
    "        #### O que fazer no Rio de Janeiro?\n",
    "\n",
    "          - No primeiro dia, faça checking no hotel\n",
    "          - Ainda no primeiro dia, visite a praia de Copacabana e experimente água de coco.\n",
    "        ++++\n",
    "        \"\"\"\n",
    "\n",
    "        self.human_template = \"#### {request}\"\n",
    "\n",
    "        self.system_message_prompt = SystemMessagePromptTemplate.from_template(self.system_template)\n",
    "        self.human_message_prompt = HumanMessagePromptTemplate.from_template(self.human_template)\n",
    "        self.chat_prompt = ChatPromptTemplate.from_messages([\n",
    "            self.system_message_prompt,\n",
    "            self.human_message_prompt\n",
    "        ])\n",
    "\n",
    "\n",
    "# ⚠️ Use sua nova chave segura aqui!\n",
    "open_ai_key = \"sk-XXXXXXXXXXXXXXXXXXXXXXXXXXXXXXXX\""
   ]
  },
  {
   "cell_type": "code",
   "execution_count": 10,
   "id": "9c1e92c9",
   "metadata": {},
   "outputs": [],
   "source": [
    "class Agent:\n",
    "    def __init__(self, open_ai_key, model=\"gpt-4-turbo\", temperature=0.1):\n",
    "        self.open_ai_key = open_ai_key\n",
    "        self.model = model\n",
    "        self.temperature = temperature\n",
    "        self.logger = logging.getLogger(__name__)\n",
    "        self.chat_model = ChatOpenAI(model=self.model,\n",
    "                                     temperature=self.temperature,\n",
    "                                     openai_api_key=self.open_ai_key)\n",
    "\n",
    "    def get_tips(self, request):\n",
    "        travel_prompt = TravelTemplate()\n",
    "        parser = LLMChain(\n",
    "            llm=self.chat_model,\n",
    "            prompt=travel_prompt.chat_prompt,\n",
    "            output_key=\"travel_tips\"\n",
    "        )\n",
    "\n",
    "        chain = SequentialChain(\n",
    "            chains=[parser],\n",
    "            input_variables=[\"request\"],\n",
    "            output_variables=[\"travel_tips\"],\n",
    "            verbose=True\n",
    "        )\n",
    "        return chain({\"request\": request}, return_only_outputs=True)\n"
   ]
  },
  {
   "cell_type": "code",
   "execution_count": 11,
   "id": "af8856e1",
   "metadata": {},
   "outputs": [
    {
     "name": "stderr",
     "output_type": "stream",
     "text": [
      "c:\\Users\\Dell\\ProjetosPython\\agente_turismo\\env\\Lib\\site-packages\\langchain_core\\_api\\deprecation.py:119: LangChainDeprecationWarning: The method `Chain.__call__` was deprecated in langchain 0.1.0 and will be removed in 0.3.0. Use invoke instead.\n",
      "  warn_deprecated(\n"
     ]
    },
    {
     "name": "stdout",
     "output_type": "stream",
     "text": [
      "\n",
      "\n",
      "\u001b[1m> Entering new SequentialChain chain...\u001b[0m\n",
      "\n",
      "\u001b[1m> Finished chain.\u001b[0m\n",
      "- No primeiro dia, faça o check-in no hotel e aproveite para relaxar na famosa Praia de Psarou, desfrutando de um belo pôr do sol.\n",
      "- No segundo dia, explore a cidade de Mikonos, visitando os moinhos de vento e o bairro de Little Venice. À noite, experimente a vida noturna vibrante em um dos muitos bares ou clubes.\n",
      "- No terceiro dia, faça um passeio de barco até a ilha de Delos, um sítio arqueológico importante e Patrimônio Mundial da UNESCO.\n",
      "- No quarto dia, visite outras praias encantadoras como a Praia de Elia e a Praia de Ornos, onde você pode relaxar e desfrutar de esportes aquáticos antes de preparar-se para a viagem de volta.\n"
     ]
    }
   ],
   "source": [
    "pedido = \"Gostaria de viajar para Mikonos durante 4 dias. Gostaria de aproveitar a cidade e a região\"\n",
    "\n",
    "agent = Agent(open_ai_key)\n",
    "\n",
    "response = agent.get_tips(pedido)\n",
    "print(response['travel_tips'])"
   ]
  }
 ],
 "metadata": {
  "kernelspec": {
   "display_name": "Python 3",
   "language": "python",
   "name": "python3"
  },
  "language_info": {
   "codemirror_mode": {
    "name": "ipython",
    "version": 3
   },
   "file_extension": ".py",
   "mimetype": "text/x-python",
   "name": "python",
   "nbconvert_exporter": "python",
   "pygments_lexer": "ipython3",
   "version": "3.11.8"
  }
 },
 "nbformat": 4,
 "nbformat_minor": 5
}
