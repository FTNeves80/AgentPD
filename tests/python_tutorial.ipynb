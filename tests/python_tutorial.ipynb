{
 "cells": [
  {
   "cell_type": "code",
   "execution_count": null,
   "id": "6511c56d",
   "metadata": {},
   "outputs": [],
   "source": [
    "print(\"Ola\")\n",
    "print(-20)\n",
    "print(3.14)\n",
    "print(True)\n",
    "print(20 * 24 * 60)\n",
    "print(\"20 days are \" + str(50) + \" minutes\")"
   ]
  },
  {
   "cell_type": "code",
   "execution_count": 27,
   "id": "3c525b36",
   "metadata": {},
   "outputs": [],
   "source": [
    "calculation_to_seconds = 24 * 60 * 60\n",
    "name_of_unit = \"seconds\" \n",
    "\n",
    "def days_to_units(num_of_days,custom_message):\n",
    "    print(f\"{num_of_days} days are {num_of_days * calculation_to_seconds} {name_of_unit}\") \n",
    "    print(custom_message)"
   ]
  },
  {
   "cell_type": "code",
   "execution_count": null,
   "id": "15661fa0",
   "metadata": {},
   "outputs": [
    {
     "name": "stdout",
     "output_type": "stream",
     "text": [
      "35 days are 3024000 seconds\n",
      "This is a custom message\n"
     ]
    }
   ],
   "source": [
    "input(\"Enter the number of days:\\n\")\n",
    "\n",
    "days_to_units(35, \"This is a custom message\")\n"
   ]
  },
  {
   "cell_type": "code",
   "execution_count": null,
   "id": "a484c145",
   "metadata": {},
   "outputs": [],
   "source": [
    "user_input_1 = input(\"Enter the number 1:\\n\")\n",
    "user_input_2 = input(\"Enter the number 2:\\n\")\n",
    "\n",
    "def add_numbers(num1, num2):\n",
    "    return int(num1) + int(num2)\n",
    "\n",
    "\n",
    "print(f\"You entered: {add_numbers(user_input_1, user_input_2)} \")\n"
   ]
  },
  {
   "cell_type": "code",
   "execution_count": null,
   "id": "d56286e3",
   "metadata": {},
   "outputs": [
    {
     "name": "stdout",
     "output_type": "stream",
     "text": [
      "Current working directory: c:\\Users\\Dell\\ProjetosPython\\agente_turismo\\tests\n",
      "List of files in the current directory: ['Agent_Travel.ipynb', 'dic_python_tutorial.py', 'LangChain_OpenAI_Travel.ipynb', 'modulos.py', 'python_tutorial.ipynb', 'python_tutorial.py', '__pycache__']\n",
      "Python version: 3.11.8 | packaged by Anaconda, Inc. | (main, Feb 26 2024, 21:34:05) [MSC v.1916 64 bit (AMD64)]\n",
      "Environment variables: nt\n"
     ]
    }
   ],
   "source": [
    "import os\n",
    "\n",
    "print(\"Current working directory:\", os.getcwd())\n",
    "print(\"List of files in the current directory:\", os.listdir())\n",
    "print(\"Python version:\", os.sys.version)\n",
    "print(\"Environment variables:\", os.name)\n"
   ]
  },
  {
   "cell_type": "code",
   "execution_count": null,
   "id": "1578e95f",
   "metadata": {},
   "outputs": [
    {
     "ename": "FileNotFoundError",
     "evalue": "[Errno 2] No such file or directory: '.\\\\excel\\\\inventory.xlsx'",
     "output_type": "error",
     "traceback": [
      "\u001b[31m---------------------------------------------------------------------------\u001b[39m",
      "\u001b[31mFileNotFoundError\u001b[39m                         Traceback (most recent call last)",
      "\u001b[36mCell\u001b[39m\u001b[36m \u001b[39m\u001b[32mIn[2]\u001b[39m\u001b[32m, line 3\u001b[39m\n\u001b[32m      1\u001b[39m \u001b[38;5;28;01mimport\u001b[39;00m\u001b[38;5;250m \u001b[39m\u001b[34;01mopenpyxl\u001b[39;00m\n\u001b[32m----> \u001b[39m\u001b[32m3\u001b[39m inv_file = \u001b[43mopenpyxl\u001b[49m\u001b[43m.\u001b[49m\u001b[43mload_workbook\u001b[49m\u001b[43m(\u001b[49m\u001b[33;43m'\u001b[39;49m\u001b[33;43m.\u001b[39;49m\u001b[33;43m\\\u001b[39;49m\u001b[33;43mexcel\u001b[39;49m\u001b[33;43m\\\u001b[39;49m\u001b[33;43minventory.xlsx\u001b[39;49m\u001b[33;43m'\u001b[39;49m\u001b[43m)\u001b[49m\n\u001b[32m      4\u001b[39m product_list = inv_file[\u001b[33m'\u001b[39m\u001b[33mSheet1\u001b[39m\u001b[33m'\u001b[39m]\n\u001b[32m      6\u001b[39m products_per_supplier = {}\n",
      "\u001b[36mFile \u001b[39m\u001b[32mc:\\Users\\Dell\\anaconda3\\envs\\agent\\Lib\\site-packages\\openpyxl\\reader\\excel.py:346\u001b[39m, in \u001b[36mload_workbook\u001b[39m\u001b[34m(filename, read_only, keep_vba, data_only, keep_links, rich_text)\u001b[39m\n\u001b[32m    316\u001b[39m \u001b[38;5;28;01mdef\u001b[39;00m\u001b[38;5;250m \u001b[39m\u001b[34mload_workbook\u001b[39m(filename, read_only=\u001b[38;5;28;01mFalse\u001b[39;00m, keep_vba=KEEP_VBA,\n\u001b[32m    317\u001b[39m                   data_only=\u001b[38;5;28;01mFalse\u001b[39;00m, keep_links=\u001b[38;5;28;01mTrue\u001b[39;00m, rich_text=\u001b[38;5;28;01mFalse\u001b[39;00m):\n\u001b[32m    318\u001b[39m \u001b[38;5;250m    \u001b[39m\u001b[33;03m\"\"\"Open the given filename and return the workbook\u001b[39;00m\n\u001b[32m    319\u001b[39m \n\u001b[32m    320\u001b[39m \u001b[33;03m    :param filename: the path to open or a file-like object\u001b[39;00m\n\u001b[32m   (...)\u001b[39m\u001b[32m    344\u001b[39m \n\u001b[32m    345\u001b[39m \u001b[33;03m    \"\"\"\u001b[39;00m\n\u001b[32m--> \u001b[39m\u001b[32m346\u001b[39m     reader = \u001b[43mExcelReader\u001b[49m\u001b[43m(\u001b[49m\u001b[43mfilename\u001b[49m\u001b[43m,\u001b[49m\u001b[43m \u001b[49m\u001b[43mread_only\u001b[49m\u001b[43m,\u001b[49m\u001b[43m \u001b[49m\u001b[43mkeep_vba\u001b[49m\u001b[43m,\u001b[49m\n\u001b[32m    347\u001b[39m \u001b[43m                         \u001b[49m\u001b[43mdata_only\u001b[49m\u001b[43m,\u001b[49m\u001b[43m \u001b[49m\u001b[43mkeep_links\u001b[49m\u001b[43m,\u001b[49m\u001b[43m \u001b[49m\u001b[43mrich_text\u001b[49m\u001b[43m)\u001b[49m\n\u001b[32m    348\u001b[39m     reader.read()\n\u001b[32m    349\u001b[39m     \u001b[38;5;28;01mreturn\u001b[39;00m reader.wb\n",
      "\u001b[36mFile \u001b[39m\u001b[32mc:\\Users\\Dell\\anaconda3\\envs\\agent\\Lib\\site-packages\\openpyxl\\reader\\excel.py:123\u001b[39m, in \u001b[36mExcelReader.__init__\u001b[39m\u001b[34m(self, fn, read_only, keep_vba, data_only, keep_links, rich_text)\u001b[39m\n\u001b[32m    121\u001b[39m \u001b[38;5;28;01mdef\u001b[39;00m\u001b[38;5;250m \u001b[39m\u001b[34m__init__\u001b[39m(\u001b[38;5;28mself\u001b[39m, fn, read_only=\u001b[38;5;28;01mFalse\u001b[39;00m, keep_vba=KEEP_VBA,\n\u001b[32m    122\u001b[39m              data_only=\u001b[38;5;28;01mFalse\u001b[39;00m, keep_links=\u001b[38;5;28;01mTrue\u001b[39;00m, rich_text=\u001b[38;5;28;01mFalse\u001b[39;00m):\n\u001b[32m--> \u001b[39m\u001b[32m123\u001b[39m     \u001b[38;5;28mself\u001b[39m.archive = \u001b[43m_validate_archive\u001b[49m\u001b[43m(\u001b[49m\u001b[43mfn\u001b[49m\u001b[43m)\u001b[49m\n\u001b[32m    124\u001b[39m     \u001b[38;5;28mself\u001b[39m.valid_files = \u001b[38;5;28mself\u001b[39m.archive.namelist()\n\u001b[32m    125\u001b[39m     \u001b[38;5;28mself\u001b[39m.read_only = read_only\n",
      "\u001b[36mFile \u001b[39m\u001b[32mc:\\Users\\Dell\\anaconda3\\envs\\agent\\Lib\\site-packages\\openpyxl\\reader\\excel.py:95\u001b[39m, in \u001b[36m_validate_archive\u001b[39m\u001b[34m(filename)\u001b[39m\n\u001b[32m     88\u001b[39m             msg = (\u001b[33m'\u001b[39m\u001b[33mopenpyxl does not support \u001b[39m\u001b[38;5;132;01m%s\u001b[39;00m\u001b[33m file format, \u001b[39m\u001b[33m'\u001b[39m\n\u001b[32m     89\u001b[39m                    \u001b[33m'\u001b[39m\u001b[33mplease check you can open \u001b[39m\u001b[33m'\u001b[39m\n\u001b[32m     90\u001b[39m                    \u001b[33m'\u001b[39m\u001b[33mit with Excel first. \u001b[39m\u001b[33m'\u001b[39m\n\u001b[32m     91\u001b[39m                    \u001b[33m'\u001b[39m\u001b[33mSupported formats are: \u001b[39m\u001b[38;5;132;01m%s\u001b[39;00m\u001b[33m'\u001b[39m) % (file_format,\n\u001b[32m     92\u001b[39m                                                    \u001b[33m'\u001b[39m\u001b[33m,\u001b[39m\u001b[33m'\u001b[39m.join(SUPPORTED_FORMATS))\n\u001b[32m     93\u001b[39m         \u001b[38;5;28;01mraise\u001b[39;00m InvalidFileException(msg)\n\u001b[32m---> \u001b[39m\u001b[32m95\u001b[39m archive = \u001b[43mZipFile\u001b[49m\u001b[43m(\u001b[49m\u001b[43mfilename\u001b[49m\u001b[43m,\u001b[49m\u001b[43m \u001b[49m\u001b[33;43m'\u001b[39;49m\u001b[33;43mr\u001b[39;49m\u001b[33;43m'\u001b[39;49m\u001b[43m)\u001b[49m\n\u001b[32m     96\u001b[39m \u001b[38;5;28;01mreturn\u001b[39;00m archive\n",
      "\u001b[36mFile \u001b[39m\u001b[32mc:\\Users\\Dell\\anaconda3\\envs\\agent\\Lib\\zipfile.py:1286\u001b[39m, in \u001b[36mZipFile.__init__\u001b[39m\u001b[34m(self, file, mode, compression, allowZip64, compresslevel, strict_timestamps, metadata_encoding)\u001b[39m\n\u001b[32m   1284\u001b[39m \u001b[38;5;28;01mwhile\u001b[39;00m \u001b[38;5;28;01mTrue\u001b[39;00m:\n\u001b[32m   1285\u001b[39m     \u001b[38;5;28;01mtry\u001b[39;00m:\n\u001b[32m-> \u001b[39m\u001b[32m1286\u001b[39m         \u001b[38;5;28mself\u001b[39m.fp = \u001b[43mio\u001b[49m\u001b[43m.\u001b[49m\u001b[43mopen\u001b[49m\u001b[43m(\u001b[49m\u001b[43mfile\u001b[49m\u001b[43m,\u001b[49m\u001b[43m \u001b[49m\u001b[43mfilemode\u001b[49m\u001b[43m)\u001b[49m\n\u001b[32m   1287\u001b[39m     \u001b[38;5;28;01mexcept\u001b[39;00m \u001b[38;5;167;01mOSError\u001b[39;00m:\n\u001b[32m   1288\u001b[39m         \u001b[38;5;28;01mif\u001b[39;00m filemode \u001b[38;5;129;01min\u001b[39;00m modeDict:\n",
      "\u001b[31mFileNotFoundError\u001b[39m: [Errno 2] No such file or directory: '.\\\\excel\\\\inventory.xlsx'"
     ]
    }
   ],
   "source": [
    "import openpyxl\n",
    "\n",
    "inv_file = openpyxl.load_workbook('\\excel\\inventory.xlsx')\n",
    "product_list = inv_file['Sheet1']\n",
    "\n",
    "products_per_supplier = {}\n",
    "\n",
    "for product_row in range(2,product_list.max_row + 1):\n",
    "    supplier_name = product_list.cell(product_row,4).value\n",
    "    \n",
    "    if supplier_name in products_per_supplier:\n",
    "        current_num_products = products_per_supplier.get(supplier_name)\n",
    "        products_per_supplier[supplier_name] = current_num_products + 1\n",
    "    else:\n",
    "        print(f\"New supplier found: {supplier_name}\")\n",
    "        products_per_supplier[supplier_name] = 1\n",
    "\n",
    "print(f\"Supplier_name: {products_per_supplier}\")"
   ]
  }
 ],
 "metadata": {
  "kernelspec": {
   "display_name": "agent",
   "language": "python",
   "name": "python3"
  },
  "language_info": {
   "codemirror_mode": {
    "name": "ipython",
    "version": 3
   },
   "file_extension": ".py",
   "mimetype": "text/x-python",
   "name": "python",
   "nbconvert_exporter": "python",
   "pygments_lexer": "ipython3",
   "version": "3.11.8"
  }
 },
 "nbformat": 4,
 "nbformat_minor": 5
}
