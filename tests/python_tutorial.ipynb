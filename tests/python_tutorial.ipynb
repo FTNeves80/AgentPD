{
 "cells": [
  {
   "cell_type": "code",
   "execution_count": null,
   "id": "6511c56d",
   "metadata": {},
   "outputs": [],
   "source": [
    "print(\"Ola\")\n",
    "print(-20)\n",
    "print(3.14)\n",
    "print(True)\n",
    "print(20 * 24 * 60)\n",
    "print(\"20 days are \" + str(50) + \" minutes\")"
   ]
  },
  {
   "cell_type": "code",
   "execution_count": 27,
   "id": "3c525b36",
   "metadata": {},
   "outputs": [],
   "source": [
    "calculation_to_seconds = 24 * 60 * 60\n",
    "name_of_unit = \"seconds\" \n",
    "\n",
    "def days_to_units(num_of_days,custom_message):\n",
    "    print(f\"{num_of_days} days are {num_of_days * calculation_to_seconds} {name_of_unit}\") \n",
    "    print(custom_message)"
   ]
  },
  {
   "cell_type": "code",
   "execution_count": 29,
   "id": "15661fa0",
   "metadata": {},
   "outputs": [
    {
     "name": "stdout",
     "output_type": "stream",
     "text": [
      "35 days are 3024000 seconds\n",
      "This is a custom message\n"
     ]
    }
   ],
   "source": [
    "input(\"Enter the number of days:\\n\")\n",
    "\n",
    "\n",
    "days_to_units(35, \"This is a custom message\")\n"
   ]
  },
  {
   "cell_type": "code",
   "execution_count": null,
   "id": "a484c145",
   "metadata": {},
   "outputs": [],
   "source": [
    "user_input_1 = input(\"Enter the number 1:\\n\")\n",
    "user_input_2 = input(\"Enter the number 2:\\n\")\n",
    "\n",
    "def add_numbers(num1, num2):\n",
    "    return int(num1) + int(num2)\n",
    "\n",
    "\n",
    "print(f\"You entered: {add_numbers(user_input_1, user_input_2)} \")\n"
   ]
  },
  {
   "cell_type": "code",
   "execution_count": null,
   "id": "d56286e3",
   "metadata": {},
   "outputs": [
    {
     "name": "stdout",
     "output_type": "stream",
     "text": [
      "Current working directory: c:\\Users\\Dell\\ProjetosPython\\agente_turismo\\tests\n",
      "List of files in the current directory: ['Agent_Travel.ipynb', 'dic_python_tutorial.py', 'LangChain_OpenAI_Travel.ipynb', 'modulos.py', 'python_tutorial.ipynb', 'python_tutorial.py', '__pycache__']\n",
      "Python version: 3.11.8 | packaged by Anaconda, Inc. | (main, Feb 26 2024, 21:34:05) [MSC v.1916 64 bit (AMD64)]\n",
      "Environment variables: nt\n"
     ]
    }
   ],
   "source": [
    "import os\n",
    "\n",
    "print(\"Current working directory:\", os.getcwd())\n",
    "print(\"List of files in the current directory:\", os.listdir())\n",
    "print(\"Python version:\", os.sys.version)\n",
    "print(\"Environment variables:\", os.name)\n"
   ]
  }
 ],
 "metadata": {
  "kernelspec": {
   "display_name": "agent",
   "language": "python",
   "name": "python3"
  },
  "language_info": {
   "codemirror_mode": {
    "name": "ipython",
    "version": 3
   },
   "file_extension": ".py",
   "mimetype": "text/x-python",
   "name": "python",
   "nbconvert_exporter": "python",
   "pygments_lexer": "ipython3",
   "version": "3.11.8"
  }
 },
 "nbformat": 4,
 "nbformat_minor": 5
}
