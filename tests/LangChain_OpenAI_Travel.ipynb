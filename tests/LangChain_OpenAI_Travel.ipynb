{
  "cells": [
    {
      "cell_type": "markdown",
      "metadata": {
        "id": "KK22MHFzgsa1"
      },
      "source": [
        "# Chat para Agente de Turismo"
      ]
    },
    {
      "cell_type": "code",
      "execution_count": null,
      "metadata": {},
      "outputs": [
        {
          "name": "stderr",
          "output_type": "stream",
          "text": [
            "c:\\Users\\Dell\\ProjetosPython\\agente_turismo\\env\\Lib\\site-packages\\langchain_core\\_api\\deprecation.py:119: LangChainDeprecationWarning: The class `LLMChain` was deprecated in LangChain 0.1.17 and will be removed in 0.3.0. Use RunnableSequence, e.g., `prompt | llm` instead.\n",
            "  warn_deprecated(\n",
            "c:\\Users\\Dell\\ProjetosPython\\agente_turismo\\env\\Lib\\site-packages\\langchain_core\\_api\\deprecation.py:119: LangChainDeprecationWarning: The method `Chain.run` was deprecated in langchain 0.1.0 and will be removed in 0.3.0. Use invoke instead.\n",
            "  warn_deprecated(\n"
          ]
        },
        {
          "name": "stdout",
          "output_type": "stream",
          "text": [
            "Recomendações para 'O que fazer em orlando por 5 dias?':\n",
            "\n",
            "- **Dia 1:** Comece sua aventura em Orlando visitando o Magic Kingdom, o parque mais icônico da Disney. Não perca a parada no final do dia e o espetáculo de fogos de artifício no castelo da Cinderela.\n",
            "- **Dia 2:** Explore o Universal Studios. Aproveite para conhecer as atrações baseadas em filmes e séries famosas, como Harry Potter e os Simpsons.\n",
            "- **Dia 3:** Dedique este dia ao Epcot, onde você pode experimentar um pouco da cultura e culinária de diversos países no World Showcase e se divertir em atrações futurísticas no Future World.\n",
            "- **Dia 4:** Visite o Animal Kingdom para uma experiência única com a natureza e animais exóticos. Não deixe de ver o Avatar Flight of Passage.\n",
            "- **Dia 5:** Encerre sua viagem com um dia no Islands of Adventure, onde você pode desfrutar de montanhas-russas emocionantes e outras atrações temáticas.\n"
          ]
        }
      ],
      "source": [
        "from langchain_openai import ChatOpenAI\n",
        "from langchain.prompts import (\n",
        "    ChatPromptTemplate,\n",
        "    SystemMessagePromptTemplate,\n",
        "    HumanMessagePromptTemplate\n",
        ")\n",
        "from langchain.chains import LLMChain\n",
        "\n",
        "\n",
        "# Classe com o template do agente de viagens\n",
        "class TravelTemplate:\n",
        "    def __init__(self):\n",
        "        self.system_template = \"\"\"\n",
        "        You are a Brazilian travel agent that gives nice and cheerful advice\n",
        "        to your customers about travels around the world. Your main goal is\n",
        "        to plan in little details every step of your customer trip.\n",
        "\n",
        "        The customer request will be denoted by four hashtags.\n",
        "\n",
        "        Give your answer as a list of places that they should visit. Initially,\n",
        "        your customer will ask for information in Portuguese about a place to\n",
        "        go and you will answer with a list.\n",
        "\n",
        "        For example:\n",
        "        ++++\n",
        "        #### O que fazer no Rio de Janeiro?\n",
        "\n",
        "          - No primeiro dia, faça checking no hotel\n",
        "          - Ainda no primeiro dia, visite a praia de Copacabana e experimente água de coco.\n",
        "        ++++\n",
        "        \"\"\"\n",
        "\n",
        "        self.human_template = \"#### {request}\"\n",
        "\n",
        "        self.system_message_prompt = SystemMessagePromptTemplate.from_template(self.system_template)\n",
        "        self.human_message_prompt = HumanMessagePromptTemplate.from_template(self.human_template)\n",
        "        self.chat_prompt = ChatPromptTemplate.from_messages([\n",
        "            self.system_message_prompt,\n",
        "            self.human_message_prompt\n",
        "        ])\n",
        "\n",
        "\n",
        "# Instância do prompt\n",
        "travel_prompt = TravelTemplate()\n",
        "\n",
        "# ⚠️ Use sua nova chave segura aqui!\n",
        "open_ai_key = \"sk-XXXXXXXXXXXXXXXXXXXXXXXXXXXXXXXX\"\n",
        "\n",
        "# Inicializando o modelo\n",
        "chat_model = ChatOpenAI(\n",
        "    model=\"gpt-4-turbo\",\n",
        "    temperature=0.1,\n",
        "    api_key=open_ai_key\n",
        ")\n",
        "\n",
        "# Criando a cadeia com o prompt\n",
        "travel_chain = LLMChain(\n",
        "    llm=chat_model,\n",
        "    prompt=travel_prompt.chat_prompt\n",
        ")\n",
        "\n",
        "# Teste de execução\n",
        "pergunta = \"O que fazer em orlando por 5 dias?\"\n",
        "response = travel_chain.run(request=pergunta)\n",
        "\n",
        "print(f\"Recomendações para '{pergunta}':\\n\")\n",
        "print(response)\n"
      ]
    }
  ],
  "metadata": {
    "colab": {
      "provenance": []
    },
    "kernelspec": {
      "display_name": "Python 3",
      "name": "python3"
    },
    "language_info": {
      "codemirror_mode": {
        "name": "ipython",
        "version": 3
      },
      "file_extension": ".py",
      "mimetype": "text/x-python",
      "name": "python",
      "nbconvert_exporter": "python",
      "pygments_lexer": "ipython3",
      "version": "3.11.8"
    }
  },
  "nbformat": 4,
  "nbformat_minor": 0
}
