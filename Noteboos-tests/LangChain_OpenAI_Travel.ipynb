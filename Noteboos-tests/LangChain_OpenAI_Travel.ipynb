{
  "cells": [
    {
      "cell_type": "markdown",
      "metadata": {
        "id": "KK22MHFzgsa1"
      },
      "source": [
        "# Chat para Agente de Turismo"
      ]
    },
    {
      "cell_type": "code",
      "execution_count": null,
      "metadata": {},
      "outputs": [
        {
          "ename": "NameError",
          "evalue": "name 'open_ai_key' is not defined",
          "output_type": "error",
          "traceback": [
            "\u001b[31m---------------------------------------------------------------------------\u001b[39m",
            "\u001b[31mNameError\u001b[39m                                 Traceback (most recent call last)",
            "\u001b[36mCell\u001b[39m\u001b[36m \u001b[39m\u001b[32mIn[1]\u001b[39m\u001b[32m, line 54\u001b[39m\n\u001b[32m     48\u001b[39m api_key = os.getenv(\u001b[33m\"\u001b[39m\u001b[33mOPENAI_API_KEY\u001b[39m\u001b[33m\"\u001b[39m)\n\u001b[32m     50\u001b[39m \u001b[38;5;66;03m# Inicializando o modelo\u001b[39;00m\n\u001b[32m     51\u001b[39m chat_model = ChatOpenAI(\n\u001b[32m     52\u001b[39m     model=\u001b[33m\"\u001b[39m\u001b[33mgpt-4-turbo\u001b[39m\u001b[33m\"\u001b[39m,\n\u001b[32m     53\u001b[39m     temperature=\u001b[32m0.1\u001b[39m,\n\u001b[32m---> \u001b[39m\u001b[32m54\u001b[39m     api_key=\u001b[43mopen_ai_key\u001b[49m\n\u001b[32m     55\u001b[39m )\n\u001b[32m     57\u001b[39m \u001b[38;5;66;03m# Criando a cadeia com o prompt\u001b[39;00m\n\u001b[32m     58\u001b[39m travel_chain = LLMChain(\n\u001b[32m     59\u001b[39m     llm=chat_model,\n\u001b[32m     60\u001b[39m     prompt=travel_prompt.chat_prompt\n\u001b[32m     61\u001b[39m )\n",
            "\u001b[31mNameError\u001b[39m: name 'open_ai_key' is not defined"
          ]
        }
      ],
      "source": [
        "from langchain_openai import ChatOpenAI\n",
        "from langchain.prompts import (\n",
        "    ChatPromptTemplate,\n",
        "    SystemMessagePromptTemplate,\n",
        "    HumanMessagePromptTemplate\n",
        ")\n",
        "from langchain.chains import LLMChain\n",
        "\n",
        "import os\n",
        "\n",
        "# Classe com o template do agente de viagens\n",
        "class TravelTemplate:\n",
        "    def __init__(self):\n",
        "        self.system_template = \"\"\"\n",
        "        You are a Brazilian travel agent that gives nice and cheerful advice\n",
        "        to your customers about travels around the world. Your main goal is\n",
        "        to plan in little details every step of your customer trip.\n",
        "\n",
        "        The customer request will be denoted by four hashtags.\n",
        "\n",
        "        Give your answer as a list of places that they should visit. Initially,\n",
        "        your customer will ask for information in Portuguese about a place to\n",
        "        go and you will answer with a list.\n",
        "\n",
        "        For example:\n",
        "        ++++\n",
        "        #### O que fazer no Rio de Janeiro?\n",
        "\n",
        "          - No primeiro dia, faça checking no hotel\n",
        "          - Ainda no primeiro dia, visite a praia de Copacabana e experimente água de coco.\n",
        "        ++++\n",
        "        \"\"\"\n",
        "\n",
        "        self.human_template = \"#### {request}\"\n",
        "\n",
        "        self.system_message_prompt = SystemMessagePromptTemplate.from_template(self.system_template)\n",
        "        self.human_message_prompt = HumanMessagePromptTemplate.from_template(self.human_template)\n",
        "        self.chat_prompt = ChatPromptTemplate.from_messages([\n",
        "            self.system_message_prompt,\n",
        "            self.human_message_prompt\n",
        "        ])\n",
        "\n",
        "\n",
        "# Instância do prompt\n",
        "travel_prompt = TravelTemplate()\n",
        "\n",
        "# ⚠️ Use sua nova chave segura aqui!\n",
        "api_key = os.getenv(\"OPENAI_API_KEY\")\n",
        "\n",
        "# Inicializando o modelo\n",
        "chat_model = ChatOpenAI(\n",
        "    model=\"gpt-4-turbo\",\n",
        "    temperature=0.1,\n",
        "    api_key=api_key\n",
        ")\n",
        "\n",
        "# Criando a cadeia com o prompt\n",
        "travel_chain = LLMChain(\n",
        "    llm=chat_model,\n",
        "    prompt=travel_prompt.chat_prompt\n",
        ")\n",
        "\n",
        "# Teste de execução\n",
        "pergunta = \"O que fazer em orlando por 5 dias?\"\n",
        "response = travel_chain.run(request=pergunta)\n",
        "\n",
        "print(f\"Recomendações para '{pergunta}':\\n\")\n",
        "print(response)\n"
      ]
    }
  ],
  "metadata": {
    "colab": {
      "provenance": []
    },
    "kernelspec": {
      "display_name": "agent",
      "language": "python",
      "name": "python3"
    },
    "language_info": {
      "codemirror_mode": {
        "name": "ipython",
        "version": 3
      },
      "file_extension": ".py",
      "mimetype": "text/x-python",
      "name": "python",
      "nbconvert_exporter": "python",
      "pygments_lexer": "ipython3",
      "version": "3.11.8"
    }
  },
  "nbformat": 4,
  "nbformat_minor": 0
}
